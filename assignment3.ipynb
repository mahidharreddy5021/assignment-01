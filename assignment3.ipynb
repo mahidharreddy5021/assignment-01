{
  "nbformat": 4,
  "nbformat_minor": 0,
  "metadata": {
    "colab": {
      "name": "assignment3.ipynb",
      "provenance": [],
      "authorship_tag": "ABX9TyOoLh84KOXj0L2plyY8zHmn",
      "include_colab_link": true
    },
    "kernelspec": {
      "name": "python3",
      "display_name": "Python 3"
    }
  },
  "cells": [
    {
      "cell_type": "markdown",
      "metadata": {
        "id": "view-in-github",
        "colab_type": "text"
      },
      "source": [
        "<a href=\"https://colab.research.google.com/github/mahidharreddy5021/assignment-01/blob/master/assignment3.ipynb\" target=\"_parent\"><img src=\"https://colab.research.google.com/assets/colab-badge.svg\" alt=\"Open In Colab\"/></a>"
      ]
    },
    {
      "cell_type": "code",
      "metadata": {
        "id": "D4CBfaVTV2O0",
        "colab_type": "code",
        "colab": {}
      },
      "source": [
        ""
      ],
      "execution_count": null,
      "outputs": []
    },
    {
      "cell_type": "markdown",
      "metadata": {
        "id": "W47VAT-CV3rI",
        "colab_type": "text"
      },
      "source": [
        "write a python program to reverse a string"
      ]
    },
    {
      "cell_type": "code",
      "metadata": {
        "id": "f1v3C2mbWCVq",
        "colab_type": "code",
        "colab": {
          "base_uri": "https://localhost:8080/",
          "height": 34
        },
        "outputId": "a6b17aad-a90e-427a-b996-1c2f304f78a3"
      },
      "source": [
        "a=\"hello\"\n",
        "print(a[::-1])"
      ],
      "execution_count": null,
      "outputs": [
        {
          "output_type": "stream",
          "text": [
            "olleh\n"
          ],
          "name": "stdout"
        }
      ]
    },
    {
      "cell_type": "markdown",
      "metadata": {
        "id": "UhZ_foi_WmSu",
        "colab_type": "text"
      },
      "source": [
        "write a python program to whether the number is prime or not"
      ]
    },
    {
      "cell_type": "code",
      "metadata": {
        "id": "NpOlp76rW2d7",
        "colab_type": "code",
        "colab": {
          "base_uri": "https://localhost:8080/",
          "height": 34
        },
        "outputId": "300715aa-ec3b-4bef-9e86-81d956da9598"
      },
      "source": [
        "a=5\n",
        "if a>1:\n",
        "  for i in range (2,a):\n",
        "    if a%i==0:\n",
        "      \n",
        "      print(\"not a prime\")\n",
        "      break\n",
        "    else:\n",
        "      print(\"prime\") \n",
        "      break\n",
        "else:\n",
        "   print(\"not prime\")"
      ],
      "execution_count": null,
      "outputs": [
        {
          "output_type": "stream",
          "text": [
            "prime\n"
          ],
          "name": "stdout"
        }
      ]
    },
    {
      "cell_type": "markdown",
      "metadata": {
        "id": "TdXjli7VYp_7",
        "colab_type": "text"
      },
      "source": [
        "write a python program to finnd sum of squares of first n natural numbers"
      ]
    },
    {
      "cell_type": "code",
      "metadata": {
        "id": "ItUQrz_OY39o",
        "colab_type": "code",
        "colab": {}
      },
      "source": [
        "def squaresum(n):\n",
        "  return(n*(n+1)/2)*(2*(n+1)/3)\n",
        "  n=4\n",
        "  print(squaressum(n))"
      ],
      "execution_count": null,
      "outputs": []
    },
    {
      "cell_type": "markdown",
      "metadata": {
        "id": "cLxBhpg5Z2if",
        "colab_type": "text"
      },
      "source": [
        "write apython program to find maximum of three numbers"
      ]
    },
    {
      "cell_type": "code",
      "metadata": {
        "id": "fRaKgN0jaHN7",
        "colab_type": "code",
        "colab": {}
      },
      "source": [
        "def add(a,b,c):\n",
        "  if a>b:\n",
        "    if a>c:\n",
        "      return a\n",
        "    else:\n",
        "      return c\n",
        "  elif b>c:\n",
        "    return b\n",
        "  else:\n",
        "    return c\n",
        "  a=int(input())\n",
        "  b=int(input())\n",
        "  c=int(input())\n",
        "  max=add(a,b,c)\n",
        "  print(max)"
      ],
      "execution_count": null,
      "outputs": []
    }
  ]
}