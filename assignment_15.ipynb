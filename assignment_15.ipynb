{
  "nbformat": 4,
  "nbformat_minor": 0,
  "metadata": {
    "colab": {
      "name": "assignment 15",
      "provenance": [],
      "include_colab_link": true
    },
    "kernelspec": {
      "name": "python3",
      "display_name": "Python 3"
    }
  },
  "cells": [
    {
      "cell_type": "markdown",
      "metadata": {
        "id": "view-in-github",
        "colab_type": "text"
      },
      "source": [
        "<a href=\"https://colab.research.google.com/github/mahidharreddy5021/assignment-01/blob/master/assignment_15.ipynb\" target=\"_parent\"><img src=\"https://colab.research.google.com/assets/colab-badge.svg\" alt=\"Open In Colab\"/></a>"
      ]
    },
    {
      "cell_type": "markdown",
      "metadata": {
        "id": "3JrXD_YWZb8o",
        "colab_type": "text"
      },
      "source": [
        "# 1.Write a python program to convert a tuple to a dictionary."
      ]
    },
    {
      "cell_type": "code",
      "metadata": {
        "id": "zJW_hXDxZoym",
        "colab_type": "code",
        "colab": {
          "base_uri": "https://localhost:8080/",
          "height": 50
        },
        "outputId": "5ef0be4d-9a40-424b-a2d3-d9c2df22f439"
      },
      "source": [
        "t1=((1,'a'),(2,'b'),(3,'c'),(4,'d'))\n",
        "print(\"before converting a tuple to a dictionary:\",t1)\n",
        "t=dict(t1)\n",
        "print(\"after converting a tuple to a dictionary:\",t)"
      ],
      "execution_count": null,
      "outputs": [
        {
          "output_type": "stream",
          "text": [
            "before converting a tuple to a dictionary: ((1, 'a'), (2, 'b'), (3, 'c'), (4, 'd'))\n",
            "after converting a tuple to a dictionary: {1: 'a', 2: 'b', 3: 'c', 4: 'd'}\n"
          ],
          "name": "stdout"
        }
      ]
    },
    {
      "cell_type": "markdown",
      "metadata": {
        "id": "7aF7kR8bbjdO",
        "colab_type": "text"
      },
      "source": [
        "# 2.Write a python program to convert a list of tuples into a dictionary."
      ]
    },
    {
      "cell_type": "code",
      "metadata": {
        "id": "jzhWI0ePb1lO",
        "colab_type": "code",
        "colab": {
          "base_uri": "https://localhost:8080/",
          "height": 50
        },
        "outputId": "3305b30f-5110-4af1-fa32-fcc641a9aea3"
      },
      "source": [
        "t1=[(\"a\",1),(\"a\",2),(\"a\",3),(\"b\",2),(\"b\",3),(\"c\",5)]\n",
        "print(\"list of tuples:\",t1)\n",
        "d={}\n",
        "for a, b in t1:\n",
        "  d.setdefault(a, []).append(b)\n",
        "print(\"converting a list of tuples to a dictionary:\",d)"
      ],
      "execution_count": null,
      "outputs": [
        {
          "output_type": "stream",
          "text": [
            "list of tuples: [('a', 1), ('a', 2), ('a', 3), ('b', 2), ('b', 3), ('c', 5)]\n",
            "converting a list of tuples to a dictionary: {'a': [1, 2, 3], 'b': [2, 3], 'c': [5]}\n"
          ],
          "name": "stdout"
        }
      ]
    }
  ]
}