{
  "nbformat": 4,
  "nbformat_minor": 0,
  "metadata": {
    "colab": {
      "name": " assignment 14",
      "provenance": [],
      "include_colab_link": true
    },
    "kernelspec": {
      "name": "python3",
      "display_name": "Python 3"
    }
  },
  "cells": [
    {
      "cell_type": "markdown",
      "metadata": {
        "id": "view-in-github",
        "colab_type": "text"
      },
      "source": [
        "<a href=\"https://colab.research.google.com/github/mahidharreddy5021/assignment-01/blob/master/assignment_14.ipynb\" target=\"_parent\"><img src=\"https://colab.research.google.com/assets/colab-badge.svg\" alt=\"Open In Colab\"/></a>"
      ]
    },
    {
      "cell_type": "markdown",
      "metadata": {
        "id": "nHsLDJHzo4i-",
        "colab_type": "text"
      },
      "source": [
        "1.Write a python program to create a tuple."
      ]
    },
    {
      "cell_type": "code",
      "metadata": {
        "id": "Vt57RzgtpDx6",
        "colab_type": "code",
        "colab": {
          "base_uri": "https://localhost:8080/",
          "height": 34
        },
        "outputId": "f8f4167f-4ed7-45f2-8fc7-bd9cc2ae7035"
      },
      "source": [
        "t=(9,12,2,3,5)\n",
        "print(t,type(t))"
      ],
      "execution_count": null,
      "outputs": [
        {
          "output_type": "stream",
          "text": [
            "(9, 12, 2, 3, 5) <class 'tuple'>\n"
          ],
          "name": "stdout"
        }
      ]
    },
    {
      "cell_type": "markdown",
      "metadata": {
        "id": "6wCFhHHVpcRo",
        "colab_type": "text"
      },
      "source": [
        "2.Write a python program to create a tuple with different data types."
      ]
    },
    {
      "cell_type": "code",
      "metadata": {
        "id": "6kLMdNFApvKo",
        "colab_type": "code",
        "colab": {
          "base_uri": "https://localhost:8080/",
          "height": 34
        },
        "outputId": "36b34c79-937a-4fdf-9e09-5870279be187"
      },
      "source": [
        "t=(2,\"python\",'256',5.28)\n",
        "print(t,type(t))"
      ],
      "execution_count": null,
      "outputs": [
        {
          "output_type": "stream",
          "text": [
            "(2, 'python', '256', 5.28) <class 'tuple'>\n"
          ],
          "name": "stdout"
        }
      ]
    },
    {
      "cell_type": "markdown",
      "metadata": {
        "id": "UvhWEesXqIT0",
        "colab_type": "text"
      },
      "source": [
        "3.Write apython program to convert tuple to a string.\n"
      ]
    },
    {
      "cell_type": "code",
      "metadata": {
        "id": "hUTUnZumqT7T",
        "colab_type": "code",
        "colab": {
          "base_uri": "https://localhost:8080/",
          "height": 34
        },
        "outputId": "890eb434-6d9c-443c-9471-ba67ae8cd02b"
      },
      "source": [
        "t=('l','u','c','k','y')\n",
        "t=''.join(t)\n",
        "print(t,type(t))"
      ],
      "execution_count": null,
      "outputs": [
        {
          "output_type": "stream",
          "text": [
            "lucky <class 'str'>\n"
          ],
          "name": "stdout"
        }
      ]
    },
    {
      "cell_type": "markdown",
      "metadata": {
        "id": "pC5FTCmHqu4r",
        "colab_type": "text"
      },
      "source": [
        "4.Write a python to slice a tuple."
      ]
    },
    {
      "cell_type": "code",
      "metadata": {
        "id": "cMZQu7g5q2Dc",
        "colab_type": "code",
        "colab": {
          "base_uri": "https://localhost:8080/",
          "height": 34
        },
        "outputId": "0bfc7136-af78-4e9c-eafa-c8e86c3b72b6"
      },
      "source": [
        "t=(1,2,3,(8,9),(5,7,6),10,4)\n",
        "slice=t[1:5]\n",
        "print(slice)"
      ],
      "execution_count": null,
      "outputs": [
        {
          "output_type": "stream",
          "text": [
            "(2, 3, (8, 9), (5, 7, 6))\n"
          ],
          "name": "stdout"
        }
      ]
    },
    {
      "cell_type": "markdown",
      "metadata": {
        "id": "RHWaxeHtr80F",
        "colab_type": "text"
      },
      "source": [
        "5.Write a python program to find length of a tuple."
      ]
    },
    {
      "cell_type": "code",
      "metadata": {
        "id": "29MLHjjMsR1d",
        "colab_type": "code",
        "colab": {
          "base_uri": "https://localhost:8080/",
          "height": 34
        },
        "outputId": "47c586ae-2bf5-4c3e-e054-9a291410deb9"
      },
      "source": [
        "t=(25,7,9,(2,3,5),35,90)\n",
        "len(t)"
      ],
      "execution_count": null,
      "outputs": [
        {
          "output_type": "execute_result",
          "data": {
            "text/plain": [
              "6"
            ]
          },
          "metadata": {
            "tags": []
          },
          "execution_count": 21
        }
      ]
    },
    {
      "cell_type": "markdown",
      "metadata": {
        "id": "bfM7JrXpvDxw",
        "colab_type": "text"
      },
      "source": [
        "6.Write a python program to reverse a tuple."
      ]
    },
    {
      "cell_type": "code",
      "metadata": {
        "id": "OGjGzTIEvPaB",
        "colab_type": "code",
        "colab": {
          "base_uri": "https://localhost:8080/",
          "height": 34
        },
        "outputId": "665dcd32-8350-44b8-f2dc-da1cabf54175"
      },
      "source": [
        "t=(12,5,7,8,3,2,9)\n",
        "a=reversed(t)\n",
        "print(tuple(a))"
      ],
      "execution_count": null,
      "outputs": [
        {
          "output_type": "stream",
          "text": [
            "(9, 2, 3, 8, 7, 5, 12)\n"
          ],
          "name": "stdout"
        }
      ]
    },
    {
      "cell_type": "markdown",
      "metadata": {
        "id": "NUMdMdxVvtMY",
        "colab_type": "text"
      },
      "source": [
        "7.Write a python program to convert list to a tuple."
      ]
    },
    {
      "cell_type": "code",
      "metadata": {
        "id": "_IT_Mo2xv9J_",
        "colab_type": "code",
        "colab": {
          "base_uri": "https://localhost:8080/",
          "height": 50
        },
        "outputId": "d0456fac-0ae0-4040-ef1f-d56ab8df4630"
      },
      "source": [
        "list=[4,9,8,3,5,2]\n",
        "print(list,type(list))\n",
        "t=tuple(list)\n",
        "print(t,type(t))"
      ],
      "execution_count": null,
      "outputs": [
        {
          "output_type": "stream",
          "text": [
            "[4, 9, 8, 3, 5, 2] <class 'list'>\n",
            "(4, 9, 8, 3, 5, 2) <class 'tuple'>\n"
          ],
          "name": "stdout"
        }
      ]
    }
  ]
}