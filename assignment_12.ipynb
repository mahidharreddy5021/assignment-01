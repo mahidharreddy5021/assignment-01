{
  "nbformat": 4,
  "nbformat_minor": 0,
  "metadata": {
    "colab": {
      "name": "assignment 12",
      "provenance": [],
      "include_colab_link": true
    },
    "kernelspec": {
      "name": "python3",
      "display_name": "Python 3"
    }
  },
  "cells": [
    {
      "cell_type": "markdown",
      "metadata": {
        "id": "view-in-github",
        "colab_type": "text"
      },
      "source": [
        "<a href=\"https://colab.research.google.com/github/mahidharreddy5021/assignment-01/blob/master/assignment_12.ipynb\" target=\"_parent\"><img src=\"https://colab.research.google.com/assets/colab-badge.svg\" alt=\"Open In Colab\"/></a>"
      ]
    },
    {
      "cell_type": "markdown",
      "metadata": {
        "id": "S7bvGpymRdAs",
        "colab_type": "text"
      },
      "source": [
        "1.Write a python program to get the largest & smallest number from a list."
      ]
    },
    {
      "cell_type": "code",
      "metadata": {
        "id": "tbzZJSobR2wK",
        "colab_type": "code",
        "colab": {
          "base_uri": "https://localhost:8080/",
          "height": 151
        },
        "outputId": "5ee696bc-7930-4db1-ca9a-a1a1e1895f7d"
      },
      "source": [
        "list = []\n",
        "num = int(input(\" How many numbers you want to enter\"))\n",
        "\n",
        "for i  in range(num):\n",
        "  numbers = int(input(\" Enter a number\"))\n",
        "\n",
        "  list.append(numbers)\n",
        "print(\" Maximum elements in the list is:\", max(list), \"\\nMinimum element in the list is :\", min(list))"
      ],
      "execution_count": null,
      "outputs": [
        {
          "output_type": "stream",
          "text": [
            " How many numbers you want to enter5\n",
            " Enter a number2\n",
            " Enter a number8\n",
            " Enter a number9\n",
            " Enter a number3\n",
            " Enter a number4\n",
            " Maximum elements in the list is: 9 \n",
            "Minimum element in the list is : 2\n"
          ],
          "name": "stdout"
        }
      ]
    },
    {
      "cell_type": "markdown",
      "metadata": {
        "id": "UGPPnlVuW1Od",
        "colab_type": "text"
      },
      "source": [
        "2.Write a python program to remove duplicates from a list."
      ]
    },
    {
      "cell_type": "code",
      "metadata": {
        "id": "YdKioOsKT-Lu",
        "colab_type": "code",
        "colab": {
          "base_uri": "https://localhost:8080/",
          "height": 34
        },
        "outputId": "a3177aa4-ed1f-4970-fb4b-94b88898414f"
      },
      "source": [
        "x = [5,9,10,9,2,3,5,10,4]\n",
        "dup = set()\n",
        "uniq = []\n",
        "for x in x :\n",
        "  if x not in dup:\n",
        "    uniq.append(x)\n",
        "    dup.add(x)\n",
        "print(dup)"
      ],
      "execution_count": null,
      "outputs": [
        {
          "output_type": "stream",
          "text": [
            "{2, 3, 4, 5, 9, 10}\n"
          ],
          "name": "stdout"
        }
      ]
    },
    {
      "cell_type": "markdown",
      "metadata": {
        "id": "PSzT8aCiYl74",
        "colab_type": "text"
      },
      "source": [
        "3.Write a python program to check a list is empty or not."
      ]
    },
    {
      "cell_type": "code",
      "metadata": {
        "id": "CAnBpACFYy-G",
        "colab_type": "code",
        "colab": {
          "base_uri": "https://localhost:8080/",
          "height": 34
        },
        "outputId": "f827b0f3-cdf7-478b-b762-7cb4f0dd5532"
      },
      "source": [
        "x=[]\n",
        "if not x :\n",
        "  print(\" list is empty\")\n",
        "else:\n",
        "  print(\" list is not empty\")\n",
        "  if len(x)==0:\n",
        "    print(\" list is empty\")\n",
        "  else:\n",
        "      print(\" list is not empty\")"
      ],
      "execution_count": null,
      "outputs": [
        {
          "output_type": "stream",
          "text": [
            " list is empty\n"
          ],
          "name": "stdout"
        }
      ]
    },
    {
      "cell_type": "markdown",
      "metadata": {
        "id": "iRQnQfZ7afFJ",
        "colab_type": "text"
      },
      "source": [
        "4.Write a python program to clone or copy a list."
      ]
    },
    {
      "cell_type": "code",
      "metadata": {
        "id": "gtSIbQR7anzl",
        "colab_type": "code",
        "colab": {
          "base_uri": "https://localhost:8080/",
          "height": 50
        },
        "outputId": "8acbd2de-e5c3-4117-9bb3-06dee5634872"
      },
      "source": [
        "list = [2,3,5,8,15]\n",
        "list1 = list.copy()\n",
        "print(list)\n",
        "print(list1)\n"
      ],
      "execution_count": null,
      "outputs": [
        {
          "output_type": "stream",
          "text": [
            "[2, 3, 5, 8, 15]\n",
            "[2, 3, 5, 8, 15]\n"
          ],
          "name": "stdout"
        }
      ]
    },
    {
      "cell_type": "markdown",
      "metadata": {
        "id": "2UWg_dbKcrG7",
        "colab_type": "text"
      },
      "source": [
        "5.Write a python program to print a specified list after removing the 0th, 4th and 5th elements."
      ]
    },
    {
      "cell_type": "code",
      "metadata": {
        "id": "bSIF6o6mdGP0",
        "colab_type": "code",
        "colab": {
          "base_uri": "https://localhost:8080/",
          "height": 34
        },
        "outputId": "d12ef537-2a99-4efb-f8ff-029fcf9ddd07"
      },
      "source": [
        "list1 = ['Cat','Dog','Rabbit','Peacock','Duck','Pigeon']\n",
        "print(list1[1:4:])"
      ],
      "execution_count": null,
      "outputs": [
        {
          "output_type": "stream",
          "text": [
            "['Dog', 'Rabbit', 'Peacock']\n"
          ],
          "name": "stdout"
        }
      ]
    },
    {
      "cell_type": "markdown",
      "metadata": {
        "id": "O3rm72B1e9GL",
        "colab_type": "text"
      },
      "source": [
        "6.Write a python program to print the numbers of a specified list after removing even numbers from it."
      ]
    },
    {
      "cell_type": "code",
      "metadata": {
        "id": "9pz4c8xffYy5",
        "colab_type": "code",
        "colab": {
          "base_uri": "https://localhost:8080/",
          "height": 34
        },
        "outputId": "4bd43bee-0545-47d5-eb51-3cf019479655"
      },
      "source": [
        "list1 = [2,6,9,30,33,34,25,27,15,16,23]\n",
        "list2 = []\n",
        "\n",
        "for i in list1:\n",
        "  if i%2!=0:\n",
        "    list2.append(i)\n",
        "print(list2)"
      ],
      "execution_count": null,
      "outputs": [
        {
          "output_type": "stream",
          "text": [
            "[9, 33, 25, 27, 15, 23]\n"
          ],
          "name": "stdout"
        }
      ]
    },
    {
      "cell_type": "markdown",
      "metadata": {
        "id": "0q4LfPZ4g8h8",
        "colab_type": "text"
      },
      "source": [
        "7.Write a python program to shuffle and print a specified list."
      ]
    },
    {
      "cell_type": "code",
      "metadata": {
        "id": "LUwX7e7HhLmB",
        "colab_type": "code",
        "colab": {
          "base_uri": "https://localhost:8080/",
          "height": 34
        },
        "outputId": "36ff55e4-0ba0-489a-f2c4-68e46c3b260c"
      },
      "source": [
        "from random import shuffle\n",
        "number = ['10','20','25','30','15','9','16']\n",
        "shuffle(number)\n",
        "print(\"New list:\",number)"
      ],
      "execution_count": null,
      "outputs": [
        {
          "output_type": "stream",
          "text": [
            "New list: ['30', '16', '10', '25', '9', '20', '15']\n"
          ],
          "name": "stdout"
        }
      ]
    },
    {
      "cell_type": "markdown",
      "metadata": {
        "id": "F1SsFTzLi2Wp",
        "colab_type": "text"
      },
      "source": [
        "8.Write a python program to get the difference between the two lists."
      ]
    },
    {
      "cell_type": "code",
      "metadata": {
        "id": "T75r9nN3kFxO",
        "colab_type": "code",
        "colab": {
          "base_uri": "https://localhost:8080/",
          "height": 34
        },
        "outputId": "fe37e668-7bb1-4f1b-a8a4-c60dbbe54825"
      },
      "source": [
        "list1 = [1,2,3,4]\n",
        "list2 = [5,6,2,3]\n",
        "list3 = []\n",
        "for item in list1:\n",
        "  if item not in list2:\n",
        "    list3.append(item)\n",
        "print(list3,\"is the difference brtween given two lists.\")    \n"
      ],
      "execution_count": null,
      "outputs": [
        {
          "output_type": "stream",
          "text": [
            "[1, 4] is the difference brtween given two lists.\n"
          ],
          "name": "stdout"
        }
      ]
    }
  ]
}