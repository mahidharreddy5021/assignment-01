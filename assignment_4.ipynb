{
  "nbformat": 4,
  "nbformat_minor": 0,
  "metadata": {
    "colab": {
      "name": "assignment 4",
      "provenance": [],
      "include_colab_link": true
    },
    "kernelspec": {
      "name": "python3",
      "display_name": "Python 3"
    }
  },
  "cells": [
    {
      "cell_type": "markdown",
      "metadata": {
        "id": "view-in-github",
        "colab_type": "text"
      },
      "source": [
        "<a href=\"https://colab.research.google.com/github/mahidharreddy5021/assignment-01/blob/master/assignment_4.ipynb\" target=\"_parent\"><img src=\"https://colab.research.google.com/assets/colab-badge.svg\" alt=\"Open In Colab\"/></a>"
      ]
    },
    {
      "cell_type": "code",
      "metadata": {
        "id": "h459xReqalUH",
        "colab_type": "code",
        "colab": {}
      },
      "source": [
        ""
      ],
      "execution_count": null,
      "outputs": []
    },
    {
      "cell_type": "markdown",
      "metadata": {
        "id": "TOsuE7wBapQ6",
        "colab_type": "text"
      },
      "source": [
        "1.Write a python program to find area of a circle using math function."
      ]
    },
    {
      "cell_type": "code",
      "metadata": {
        "id": "U7pExJENbE9T",
        "colab_type": "code",
        "colab": {
          "base_uri": "https://localhost:8080/",
          "height": 50
        },
        "outputId": "6a6fa034-8ae3-430a-cd88-7418359ab6da"
      },
      "source": [
        "import math\n",
        "r = float(input(\"Enter the radius of the circle: \"))\n",
        "area = math.pi*r**2\n",
        "print(\"area of a circle is\", +area)"
      ],
      "execution_count": null,
      "outputs": [
        {
          "output_type": "stream",
          "text": [
            "Enter the radius of the circle: 9\n",
            "area of a circle is 254.46900494077323\n"
          ],
          "name": "stdout"
        }
      ]
    },
    {
      "cell_type": "markdown",
      "metadata": {
        "id": "fbQJYPGmd96o",
        "colab_type": "text"
      },
      "source": [
        "2.Write a python program to find area of regular polygon using math function."
      ]
    },
    {
      "cell_type": "code",
      "metadata": {
        "id": "fRUrNBeShFGI",
        "colab_type": "code",
        "colab": {
          "base_uri": "https://localhost:8080/",
          "height": 67
        },
        "outputId": "6760cad2-515e-45a2-aae1-6276b181a3f9"
      },
      "source": [
        "from math import tan, pi\n",
        "n_sides = int(input(\"the number of sides: \"))\n",
        "s_length = float(input(\"the length of a side: \"))\n",
        "area = n_sides * (s_length ** 2) / (4 * tan(pi / n_sides))\n",
        "print(\"The area of the polygon is: \",area)\n",
        "\n"
      ],
      "execution_count": null,
      "outputs": [
        {
          "output_type": "stream",
          "text": [
            "the number of sides: 5\n",
            "the length of a side: 16\n",
            "The area of the polygon is:  440.44221455077553\n"
          ],
          "name": "stdout"
        }
      ]
    },
    {
      "cell_type": "markdown",
      "metadata": {
        "id": "vfC1ZW3Sh05A",
        "colab_type": "text"
      },
      "source": [
        "3.Write a program to find area of a segment of a circle formula using math function."
      ]
    },
    {
      "cell_type": "code",
      "metadata": {
        "id": "4YP6_eKYiD1_",
        "colab_type": "code",
        "colab": {
          "base_uri": "https://localhost:8080/",
          "height": 67
        },
        "outputId": "f0d7ed26-f129-4ca0-f6da-7da101e0a8ed"
      },
      "source": [
        "import math\n",
        "pi=3.14\n",
        "radius=int(input(\"enter the radius\"))\n",
        "angle=int(input(\"enter the angle\"))\n",
        "areaofsector = pi*(radius*radius)*(angle/360)\n",
        "areaoftriangle = 1/2 * (radius * radius) *math.sin((angle * pi) / 180)\n",
        "area= areaofsector-areaoftriangle\n",
        "print(\"Area of minor segment =\", area)"
      ],
      "execution_count": null,
      "outputs": [
        {
          "output_type": "stream",
          "text": [
            "enter the radius5\n",
            "enter the angle100\n",
            "Area of minor segment = 9.493542896611865\n"
          ],
          "name": "stdout"
        }
      ]
    },
    {
      "cell_type": "markdown",
      "metadata": {
        "id": "c2Q4b8xLj47u",
        "colab_type": "text"
      },
      "source": [
        "4.Write a python program to shuffle list l1=[100,1,2,3,30,40\",hai\",\"hello\"]."
      ]
    },
    {
      "cell_type": "code",
      "metadata": {
        "id": "qSREAeZGmbxT",
        "colab_type": "code",
        "colab": {
          "base_uri": "https://localhost:8080/",
          "height": 34
        },
        "outputId": "1b0a7a40-1059-42ff-e8d3-0cfc865824a9"
      },
      "source": [
        "from random import shuffle\n",
        "colour= ['100','1','2','3','30','40',\"hai\",\"hello\"]\n",
        "shuffle(colour)\n",
        "print(colour)"
      ],
      "execution_count": null,
      "outputs": [
        {
          "output_type": "stream",
          "text": [
            "['3', '100', 'hello', 'hai', '30', '2', '40', '1']\n"
          ],
          "name": "stdout"
        }
      ]
    },
    {
      "cell_type": "markdown",
      "metadata": {
        "id": "jcWmrTZkni6g",
        "colab_type": "text"
      },
      "source": [
        "5.Write python program to generate random numbers between 1,10000 and difference between each random number is 50."
      ]
    },
    {
      "cell_type": "code",
      "metadata": {
        "id": "Nx9czDftoD_z",
        "colab_type": "code",
        "colab": {
          "base_uri": "https://localhost:8080/",
          "height": 34
        },
        "outputId": "de20d02a-8203-4fdb-aacc-4bf9a48c1090"
      },
      "source": [
        "import random\n",
        "random.randrange(0,110000,50)"
      ],
      "execution_count": null,
      "outputs": [
        {
          "output_type": "execute_result",
          "data": {
            "text/plain": [
              "46650"
            ]
          },
          "metadata": {
            "tags": []
          },
          "execution_count": 72
        }
      ]
    },
    {
      "cell_type": "code",
      "metadata": {
        "id": "Nnjw6VR1pHZP",
        "colab_type": "code",
        "colab": {}
      },
      "source": [
        "6.Write a python program by using math module to find\n",
        "\n",
        "(1) sin60"
      ],
      "execution_count": null,
      "outputs": []
    },
    {
      "cell_type": "code",
      "metadata": {
        "id": "jZtjUXxP6SQO",
        "colab_type": "code",
        "colab": {
          "base_uri": "https://localhost:8080/",
          "height": 34
        },
        "outputId": "7a65ab90-fe6a-42be-dd68-11bc01738c9b"
      },
      "source": [
        "import math\n",
        "math.sin(60)"
      ],
      "execution_count": null,
      "outputs": [
        {
          "output_type": "execute_result",
          "data": {
            "text/plain": [
              "-0.3048106211022167"
            ]
          },
          "metadata": {
            "tags": []
          },
          "execution_count": 62
        }
      ]
    },
    {
      "cell_type": "code",
      "metadata": {
        "id": "AEStpcDT6QIr",
        "colab_type": "code",
        "colab": {}
      },
      "source": [
        ""
      ],
      "execution_count": null,
      "outputs": []
    },
    {
      "cell_type": "markdown",
      "metadata": {
        "id": "ZNoM-HdQ7JxI",
        "colab_type": "text"
      },
      "source": [
        "(2) cos(pi)"
      ]
    },
    {
      "cell_type": "code",
      "metadata": {
        "id": "j7xlS0Gi7Q2U",
        "colab_type": "code",
        "colab": {
          "base_uri": "https://localhost:8080/",
          "height": 34
        },
        "outputId": "60cf545d-d97c-41c9-e1d2-7978a1f76cf8"
      },
      "source": [
        "import math\n",
        "math.cos(pi)"
      ],
      "execution_count": null,
      "outputs": [
        {
          "output_type": "execute_result",
          "data": {
            "text/plain": [
              "-0.9999987317275395"
            ]
          },
          "metadata": {
            "tags": []
          },
          "execution_count": 59
        }
      ]
    },
    {
      "cell_type": "markdown",
      "metadata": {
        "id": "-7X3r4sF7WU8",
        "colab_type": "text"
      },
      "source": [
        "(3) tan90"
      ]
    },
    {
      "cell_type": "code",
      "metadata": {
        "id": "KWp06fm17dx5",
        "colab_type": "code",
        "colab": {
          "base_uri": "https://localhost:8080/",
          "height": 34
        },
        "outputId": "3293666c-01e9-44f0-d856-c6e888b0028c"
      },
      "source": [
        "import math\n",
        "math.tan(90)"
      ],
      "execution_count": null,
      "outputs": [
        {
          "output_type": "execute_result",
          "data": {
            "text/plain": [
              "-1.995200412208242"
            ]
          },
          "metadata": {
            "tags": []
          },
          "execution_count": 63
        }
      ]
    },
    {
      "cell_type": "code",
      "metadata": {
        "id": "LXm3QxwxkXW9",
        "colab_type": "code",
        "colab": {}
      },
      "source": [
        ""
      ],
      "execution_count": null,
      "outputs": []
    },
    {
      "cell_type": "markdown",
      "metadata": {
        "id": "MgM-OSyv7kMq",
        "colab_type": "text"
      },
      "source": [
        "(4) angle of sin(0.8660254037844386)"
      ]
    },
    {
      "cell_type": "code",
      "metadata": {
        "id": "7wDuGvC57yMv",
        "colab_type": "code",
        "colab": {
          "base_uri": "https://localhost:8080/",
          "height": 34
        },
        "outputId": "04deffbf-987d-4dd1-967b-9e02af0a3d4e"
      },
      "source": [
        "import math\n",
        "math.sin(0.8660254037844386)"
      ],
      "execution_count": null,
      "outputs": [
        {
          "output_type": "execute_result",
          "data": {
            "text/plain": [
              "0.7617599814162892"
            ]
          },
          "metadata": {
            "tags": []
          },
          "execution_count": 64
        }
      ]
    },
    {
      "cell_type": "markdown",
      "metadata": {
        "id": "QEBDmEXx8b8h",
        "colab_type": "text"
      },
      "source": [
        "(5) 5^8"
      ]
    },
    {
      "cell_type": "code",
      "metadata": {
        "id": "7ZoGszsX8j09",
        "colab_type": "code",
        "colab": {
          "base_uri": "https://localhost:8080/",
          "height": 34
        },
        "outputId": "70dcd4d2-d13d-4a68-a37e-6c92540e03c6"
      },
      "source": [
        "import math\n",
        "math.pow(5,8)"
      ],
      "execution_count": null,
      "outputs": [
        {
          "output_type": "execute_result",
          "data": {
            "text/plain": [
              "390625.0"
            ]
          },
          "metadata": {
            "tags": []
          },
          "execution_count": 65
        }
      ]
    },
    {
      "cell_type": "code",
      "metadata": {
        "id": "mmlFBDFmeNew",
        "colab_type": "code",
        "colab": {}
      },
      "source": [
        ""
      ],
      "execution_count": null,
      "outputs": []
    },
    {
      "cell_type": "markdown",
      "metadata": {
        "id": "yRBrWN7N-U0J",
        "colab_type": "text"
      },
      "source": [
        "(6) square root of 400"
      ]
    },
    {
      "cell_type": "code",
      "metadata": {
        "id": "dNTK4BN5-Z3m",
        "colab_type": "code",
        "colab": {
          "base_uri": "https://localhost:8080/",
          "height": 34
        },
        "outputId": "13401a32-c1be-40a8-bd1a-87c1727fe044"
      },
      "source": [
        "import math\n",
        "sqrt = math.sqrt(400)\n",
        "print(\"square root:\",sqrt)"
      ],
      "execution_count": null,
      "outputs": [
        {
          "output_type": "stream",
          "text": [
            "square root: 20.0\n"
          ],
          "name": "stdout"
        }
      ]
    },
    {
      "cell_type": "markdown",
      "metadata": {
        "id": "8gS2Qk9C_efF",
        "colab_type": "text"
      },
      "source": [
        "(7) the value of 5^e"
      ]
    },
    {
      "cell_type": "code",
      "metadata": {
        "id": "uDIcFCKlD1PY",
        "colab_type": "code",
        "colab": {
          "base_uri": "https://localhost:8080/",
          "height": 34
        },
        "outputId": "e7d308de-b89a-4aa4-fd8a-f863a9d04572"
      },
      "source": [
        "import math\n",
        "math.exp(5)"
      ],
      "execution_count": null,
      "outputs": [
        {
          "output_type": "execute_result",
          "data": {
            "text/plain": [
              "148.4131591025766"
            ]
          },
          "metadata": {
            "tags": []
          },
          "execution_count": 58
        }
      ]
    },
    {
      "cell_type": "markdown",
      "metadata": {
        "id": "PscIev1CAhFd",
        "colab_type": "text"
      },
      "source": [
        "(8) the value of log(1024), base 2"
      ]
    },
    {
      "cell_type": "code",
      "metadata": {
        "id": "PbegTSF0A6qa",
        "colab_type": "code",
        "colab": {
          "base_uri": "https://localhost:8080/",
          "height": 34
        },
        "outputId": "0be15b6b-4709-43f9-92d9-ee056682ba69"
      },
      "source": [
        "import math\n",
        "math.log2(1024)"
      ],
      "execution_count": null,
      "outputs": [
        {
          "output_type": "execute_result",
          "data": {
            "text/plain": [
              "10.0"
            ]
          },
          "metadata": {
            "tags": []
          },
          "execution_count": 66
        }
      ]
    },
    {
      "cell_type": "markdown",
      "metadata": {
        "id": "qD5y6XuYBIfA",
        "colab_type": "text"
      },
      "source": [
        "(9) the value of log(1024),base 10"
      ]
    },
    {
      "cell_type": "code",
      "metadata": {
        "id": "r48zF5g2BTtj",
        "colab_type": "code",
        "colab": {
          "base_uri": "https://localhost:8080/",
          "height": 34
        },
        "outputId": "8e81af78-85ad-4e6f-9816-7b3370e176b7"
      },
      "source": [
        "import math\n",
        "math.log10(1024)"
      ],
      "execution_count": null,
      "outputs": [
        {
          "output_type": "execute_result",
          "data": {
            "text/plain": [
              "3.010299956639812"
            ]
          },
          "metadata": {
            "tags": []
          },
          "execution_count": 67
        }
      ]
    },
    {
      "cell_type": "code",
      "metadata": {
        "id": "bJhLk0bD_mud",
        "colab_type": "code",
        "colab": {}
      },
      "source": [
        ""
      ],
      "execution_count": null,
      "outputs": []
    },
    {
      "cell_type": "markdown",
      "metadata": {
        "id": "Vg7nMyN0BZbA",
        "colab_type": "text"
      },
      "source": [
        "(10) the floor and ceiling value of 23.56"
      ]
    },
    {
      "cell_type": "code",
      "metadata": {
        "id": "NRrMS3tQBglf",
        "colab_type": "code",
        "colab": {
          "base_uri": "https://localhost:8080/",
          "height": 34
        },
        "outputId": "a1939ee7-559a-4c67-b6c2-d28f59182dda"
      },
      "source": [
        "import math\n",
        "math.floor(23.56)"
      ],
      "execution_count": null,
      "outputs": [
        {
          "output_type": "execute_result",
          "data": {
            "text/plain": [
              "23"
            ]
          },
          "metadata": {
            "tags": []
          },
          "execution_count": 68
        }
      ]
    },
    {
      "cell_type": "code",
      "metadata": {
        "id": "cOvKlt4IBwaH",
        "colab_type": "code",
        "colab": {
          "base_uri": "https://localhost:8080/",
          "height": 34
        },
        "outputId": "08662b1c-a650-484b-9290-bb81b8ad1796"
      },
      "source": [
        "import math\n",
        "math.ceil(23.56)"
      ],
      "execution_count": null,
      "outputs": [
        {
          "output_type": "execute_result",
          "data": {
            "text/plain": [
              "24"
            ]
          },
          "metadata": {
            "tags": []
          },
          "execution_count": 69
        }
      ]
    },
    {
      "cell_type": "code",
      "metadata": {
        "id": "rs5wqPxeB0mI",
        "colab_type": "code",
        "colab": {}
      },
      "source": [
        ""
      ],
      "execution_count": null,
      "outputs": []
    }
  ]
}