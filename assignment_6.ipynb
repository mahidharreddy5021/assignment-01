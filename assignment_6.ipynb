{
  "nbformat": 4,
  "nbformat_minor": 0,
  "metadata": {
    "colab": {
      "name": "assignment 6",
      "provenance": [],
      "include_colab_link": true
    },
    "kernelspec": {
      "name": "python3",
      "display_name": "Python 3"
    }
  },
  "cells": [
    {
      "cell_type": "markdown",
      "metadata": {
        "id": "view-in-github",
        "colab_type": "text"
      },
      "source": [
        "<a href=\"https://colab.research.google.com/github/mahidharreddy5021/assignment-01/blob/master/assignment_6.ipynb\" target=\"_parent\"><img src=\"https://colab.research.google.com/assets/colab-badge.svg\" alt=\"Open In Colab\"/></a>"
      ]
    },
    {
      "cell_type": "code",
      "metadata": {
        "id": "au39QaWIh39V",
        "colab_type": "code",
        "colab": {}
      },
      "source": [
        ""
      ],
      "execution_count": null,
      "outputs": []
    },
    {
      "cell_type": "markdown",
      "metadata": {
        "id": "r-gQ-LcOh5Sa",
        "colab_type": "text"
      },
      "source": [
        "1.convert binary numbers to decimal."
      ]
    },
    {
      "cell_type": "code",
      "metadata": {
        "id": "pef29fi0xIvi",
        "colab_type": "code",
        "colab": {
          "base_uri": "https://localhost:8080/",
          "height": 67
        },
        "outputId": "1860e80b-8b9d-4542-b857-389eec655214"
      },
      "source": [
        "print(\"Enter 'x for exit\");\n",
        "binary = input(\"Enter number in Binary Format:\");\n",
        "if binary == 'x':\n",
        "  exit();\n",
        "else:\n",
        "    decimal = int(binary, 2);\n",
        "    print(binary,\"in Decimal =\",decimal);"
      ],
      "execution_count": null,
      "outputs": [
        {
          "output_type": "stream",
          "text": [
            "Enter 'x for exit\n",
            "Enter number in Binary Format:100000\n",
            "100000 in Decimal = 32\n"
          ],
          "name": "stdout"
        }
      ]
    },
    {
      "cell_type": "code",
      "metadata": {
        "id": "3XdUDjP-jFR5",
        "colab_type": "code",
        "colab": {}
      },
      "source": [
        ""
      ],
      "execution_count": null,
      "outputs": []
    },
    {
      "cell_type": "markdown",
      "metadata": {
        "id": "FfRjoRDMjGCk",
        "colab_type": "text"
      },
      "source": [
        "2.Generate first N number of Fibonacci numbers.Take N value from user."
      ]
    },
    {
      "cell_type": "code",
      "metadata": {
        "id": "hvajOxZDP16A",
        "colab_type": "code",
        "colab": {
          "base_uri": "https://localhost:8080/",
          "height": 34
        },
        "outputId": "ee039a79-eda0-449f-cd85-802712f12476"
      },
      "source": [
        "def Fibonacci(n):\n",
        "    if n<0:\n",
        "      print(\"Incorrect input\")\n",
        "    elif n==1:\n",
        "        return 0\n",
        "    elif n==2:\n",
        "        return 1\n",
        "    else:\n",
        "        return Fibonacci(n-1)+Fibonacci(n-2)\n",
        "print(Fibonacci(5))"
      ],
      "execution_count": null,
      "outputs": [
        {
          "output_type": "stream",
          "text": [
            "3\n"
          ],
          "name": "stdout"
        }
      ]
    },
    {
      "cell_type": "code",
      "metadata": {
        "id": "4wny96iYjGfU",
        "colab_type": "code",
        "colab": {}
      },
      "source": [
        ""
      ],
      "execution_count": null,
      "outputs": []
    },
    {
      "cell_type": "markdown",
      "metadata": {
        "id": "NUCg7lGKjHdU",
        "colab_type": "text"
      },
      "source": [
        "3.Dispaly multiplication table of K.Take K value from user"
      ]
    },
    {
      "cell_type": "code",
      "metadata": {
        "id": "cfskhtyGjS58",
        "colab_type": "code",
        "colab": {
          "base_uri": "https://localhost:8080/",
          "height": 202
        },
        "outputId": "3f5c8173-6fc4-4842-b235-65f72f5633ce"
      },
      "source": [
        "k=int(input('Enter a k value to display its multiplication table'))\n",
        "for i in range (1,11):\n",
        "  print(k, 'x', i, '=',k*i)"
      ],
      "execution_count": null,
      "outputs": [
        {
          "output_type": "stream",
          "text": [
            "Enter a k value to display its multiplication table15\n",
            "15 x 1 = 15\n",
            "15 x 2 = 30\n",
            "15 x 3 = 45\n",
            "15 x 4 = 60\n",
            "15 x 5 = 75\n",
            "15 x 6 = 90\n",
            "15 x 7 = 105\n",
            "15 x 8 = 120\n",
            "15 x 9 = 135\n",
            "15 x 10 = 150\n"
          ],
          "name": "stdout"
        }
      ]
    },
    {
      "cell_type": "markdown",
      "metadata": {
        "id": "Q7ZNx00ZkZ8O",
        "colab_type": "text"
      },
      "source": [
        "4.Take 10 integers from keyboard using loop and print their average value on the screen print the following patterns using loop:\n",
        "*\n",
        "**\n",
        "***\n",
        "****"
      ]
    },
    {
      "cell_type": "code",
      "metadata": {
        "id": "Dfq_V16gWfpt",
        "colab_type": "code",
        "colab": {
          "base_uri": "https://localhost:8080/",
          "height": 218
        },
        "outputId": "1f13b312-9a98-4da5-a20f-3d2d02db8212"
      },
      "source": [
        "N= int(input(\"how many terms\"))\n",
        "sum=0\n",
        "for i in range(N):\n",
        "  numbers=float(input(\"enter the value of number\"))\n",
        "  sum+=numbers\n",
        "average=sum/N\n",
        "print(\"the average of values are\",average)"
      ],
      "execution_count": null,
      "outputs": [
        {
          "output_type": "stream",
          "text": [
            "how many terms10\n",
            "enter the value of number2\n",
            "enter the value of number3\n",
            "enter the value of number6\n",
            "enter the value of number8\n",
            "enter the value of number9\n",
            "enter the value of number10\n",
            "enter the value of number4\n",
            "enter the value of number5\n",
            "enter the value of number7\n",
            "enter the value of number9\n",
            "the average of values are 6.3\n"
          ],
          "name": "stdout"
        }
      ]
    },
    {
      "cell_type": "code",
      "metadata": {
        "id": "vFnsbaIqvlLw",
        "colab_type": "code",
        "colab": {
          "base_uri": "https://localhost:8080/",
          "height": 101
        },
        "outputId": "bbbfc323-fb4f-4149-ab8a-3915bc1cb845"
      },
      "source": [
        "num=int(input(\"enter the no of rows\"))\n",
        "for i in range(1,num+1):\n",
        "  for j in range(1,i+1):\n",
        "    print('*',end='')\n",
        "  print()\n"
      ],
      "execution_count": null,
      "outputs": [
        {
          "output_type": "stream",
          "text": [
            "enter the no of rows4\n",
            "*\n",
            "**\n",
            "***\n",
            "****\n"
          ],
          "name": "stdout"
        }
      ]
    },
    {
      "cell_type": "code",
      "metadata": {
        "id": "ZFSzYiAISXvR",
        "colab_type": "code",
        "colab": {}
      },
      "source": [
        ""
      ],
      "execution_count": null,
      "outputs": []
    },
    {
      "cell_type": "code",
      "metadata": {
        "id": "yfCTyhX1m-Vq",
        "colab_type": "code",
        "colab": {}
      },
      "source": [
        ""
      ],
      "execution_count": null,
      "outputs": []
    },
    {
      "cell_type": "markdown",
      "metadata": {
        "id": "6az-k6Pcm-yb",
        "colab_type": "text"
      },
      "source": [
        "5.Write a python program to find greatest common divisor(GCD) or highest common factor(HCF) of given two numbers."
      ]
    },
    {
      "cell_type": "code",
      "metadata": {
        "id": "WidBE4LbnTNY",
        "colab_type": "code",
        "colab": {}
      },
      "source": [
        "def hcf(x,y):\n",
        "  if x > y :\n",
        "    smaller = y\n",
        "  else:\n",
        "    smaller = x\n",
        "  for i in range(1, smaller+1):\n",
        "      if((x % i == 0) and (y % i == 0)):\n",
        "          hcf = i\n",
        "  return hcf\n",
        "\n",
        "    \n",
        "\n"
      ],
      "execution_count": null,
      "outputs": []
    },
    {
      "cell_type": "code",
      "metadata": {
        "id": "mAgnTFZPpJAu",
        "colab_type": "code",
        "colab": {
          "base_uri": "https://localhost:8080/",
          "height": 34
        },
        "outputId": "aba2aa2e-c311-4457-c89f-0bf7f7bdb53a"
      },
      "source": [
        "num1 = 25\n",
        "num2 =47\n",
        "print(\"The H.C.F.  is\", hcf(num1, num2))"
      ],
      "execution_count": null,
      "outputs": [
        {
          "output_type": "stream",
          "text": [
            "The H.C.F.  is 1\n"
          ],
          "name": "stdout"
        }
      ]
    },
    {
      "cell_type": "markdown",
      "metadata": {
        "id": "Z931wNTWpm9u",
        "colab_type": "text"
      },
      "source": [
        "6.Write a python program that accepts a word from the user and reverse it."
      ]
    },
    {
      "cell_type": "code",
      "metadata": {
        "id": "B2WLsLsIp04h",
        "colab_type": "code",
        "colab": {
          "base_uri": "https://localhost:8080/",
          "height": 67
        },
        "outputId": "9ea26342-7f59-4c3c-97a6-3f5859ea9046"
      },
      "source": [
        "\tword = input(\"Input a word to reverse: \")\n",
        "\t\n",
        "\tfor char in range(len(word) - 1, -1, -1):\n",
        "  print(word[char], end=\"\")\n",
        "\tprint(\"\\n\")"
      ],
      "execution_count": null,
      "outputs": [
        {
          "output_type": "stream",
          "text": [
            "Input a word to reverse: English\n",
            "hsilgnE\n",
            "\n"
          ],
          "name": "stdout"
        }
      ]
    },
    {
      "cell_type": "markdown",
      "metadata": {
        "id": "9qwwp8J_r3uc",
        "colab_type": "text"
      },
      "source": [
        "7.Write a python program to count the number of even and odd numbers from a series of numbers."
      ]
    },
    {
      "cell_type": "code",
      "metadata": {
        "id": "MQeOHfFTsKHK",
        "colab_type": "code",
        "colab": {
          "base_uri": "https://localhost:8080/",
          "height": 50
        },
        "outputId": "b469794e-0756-4561-88cf-ec5d9e1baa71"
      },
      "source": [
        "numbers =(1,2,5,9,4,6,16,12,18)\n",
        "count_odd = 0\n",
        "count_even = 0\n",
        "for x in numbers:\n",
        "        if not x % 2:\n",
        "    \t     count_even+=1\n",
        "        else:\n",
        "    \t     count_odd+=1\n",
        "print(\"Number of even numbers :\",count_even)\n",
        "print(\"Number of odd numbers :\",count_odd)\n",
        "\n"
      ],
      "execution_count": null,
      "outputs": [
        {
          "output_type": "stream",
          "text": [
            "Number of even numbers : 6\n",
            "Number of odd numbers : 3\n"
          ],
          "name": "stdout"
        }
      ]
    },
    {
      "cell_type": "markdown",
      "metadata": {
        "id": "Ut1oPdcnu9O_",
        "colab_type": "text"
      },
      "source": [
        "8.Write a python program that prints all the numbers from 0 to 6 excepts 3 and 6."
      ]
    },
    {
      "cell_type": "code",
      "metadata": {
        "id": "HQvXQ8R4vQgw",
        "colab_type": "code",
        "colab": {
          "base_uri": "https://localhost:8080/",
          "height": 50
        },
        "outputId": "867433d2-0ac8-423e-9120-6b07687d7aaf"
      },
      "source": [
        "for x in range(6):\n",
        "    if (x == 3 or x==6):\n",
        "        continue\n",
        "    print(x, end='')\n",
        "print(\"\\n\")"
      ],
      "execution_count": null,
      "outputs": [
        {
          "output_type": "stream",
          "text": [
            "01245\n",
            "\n"
          ],
          "name": "stdout"
        }
      ]
    },
    {
      "cell_type": "markdown",
      "metadata": {
        "id": "41-gv5Uou7ET",
        "colab_type": "text"
      },
      "source": [
        ""
      ]
    },
    {
      "cell_type": "markdown",
      "metadata": {
        "id": "kun19pfXu7Ma",
        "colab_type": "text"
      },
      "source": [
        ""
      ]
    },
    {
      "cell_type": "code",
      "metadata": {
        "id": "5-scwIgBt45B",
        "colab_type": "code",
        "colab": {}
      },
      "source": [
        ""
      ],
      "execution_count": null,
      "outputs": []
    }
  ]
}