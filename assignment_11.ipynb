{
  "nbformat": 4,
  "nbformat_minor": 0,
  "metadata": {
    "colab": {
      "name": "assignment 11",
      "provenance": [],
      "include_colab_link": true
    },
    "kernelspec": {
      "name": "python3",
      "display_name": "Python 3"
    }
  },
  "cells": [
    {
      "cell_type": "markdown",
      "metadata": {
        "id": "view-in-github",
        "colab_type": "text"
      },
      "source": [
        "<a href=\"https://colab.research.google.com/github/mahidharreddy5021/assignment-01/blob/master/assignment_11.ipynb\" target=\"_parent\"><img src=\"https://colab.research.google.com/assets/colab-badge.svg\" alt=\"Open In Colab\"/></a>"
      ]
    },
    {
      "cell_type": "markdown",
      "metadata": {
        "id": "7pPpMYaP9c7u",
        "colab_type": "text"
      },
      "source": [
        "1.Write a python program to calculate the length of a string."
      ]
    },
    {
      "cell_type": "code",
      "metadata": {
        "id": "pY-d4dbx-JiX",
        "colab_type": "code",
        "colab": {
          "base_uri": "https://localhost:8080/",
          "height": 50
        },
        "outputId": "a3c54cc5-f3d3-4769-f513-734b2a4f68a6"
      },
      "source": [
        "str = input(\"Enter a string \")\n",
        "print(\"Length of the input string is:\", len(str))"
      ],
      "execution_count": null,
      "outputs": [
        {
          "output_type": "stream",
          "text": [
            "Enter a string Gitam University\n",
            "Length of the input string is: 16\n"
          ],
          "name": "stdout"
        }
      ]
    },
    {
      "cell_type": "markdown",
      "metadata": {
        "id": "nNh9-ESdBOcG",
        "colab_type": "text"
      },
      "source": [
        "2.Write a python program to count the number of characters(character frequency) in a string."
      ]
    },
    {
      "cell_type": "code",
      "metadata": {
        "id": "GxCSt4-iBvfd",
        "colab_type": "code",
        "colab": {
          "base_uri": "https://localhost:8080/",
          "height": 34
        },
        "outputId": "053fcb2a-814a-47c8-9c63-115599b90006"
      },
      "source": [
        "s = \" python language\"\n",
        "count={}\n",
        "for k in s:\n",
        "  if k in count:\n",
        "    count[k] = count[k]+1\n",
        "  else:\n",
        "    count[k]=1\n",
        "print(\" the count of all characters are:\",str(count))\n",
        "      "
      ],
      "execution_count": null,
      "outputs": [
        {
          "output_type": "stream",
          "text": [
            " the count of all characters are: {' ': 2, 'p': 1, 'y': 1, 't': 1, 'h': 1, 'o': 1, 'n': 2, 'l': 1, 'a': 2, 'g': 2, 'u': 1, 'e': 1}\n"
          ],
          "name": "stdout"
        }
      ]
    },
    {
      "cell_type": "markdown",
      "metadata": {
        "id": "r4p2GJ-fWcea",
        "colab_type": "text"
      },
      "source": [
        "3.Write a python program to get a single string from two given strings, separated by a space and swap the first characters of each string. "
      ]
    },
    {
      "cell_type": "code",
      "metadata": {
        "id": "QGnMnzDcXATe",
        "colab_type": "code",
        "colab": {
          "base_uri": "https://localhost:8080/",
          "height": 34
        },
        "outputId": "572dbc36-aeec-44dc-e7b3-d32def97d8e8"
      },
      "source": [
        "def char(a,b):\n",
        "  A=b[ :2]+a[2:]\n",
        "  B=a[:2]+b[2:]\n",
        "  return A  + \"  \"+ B\n",
        "print(char('785' ,'xyz'))"
      ],
      "execution_count": null,
      "outputs": [
        {
          "output_type": "stream",
          "text": [
            "xy5  78z\n"
          ],
          "name": "stdout"
        }
      ]
    },
    {
      "cell_type": "markdown",
      "metadata": {
        "id": "LXuWzJgNXivd",
        "colab_type": "text"
      },
      "source": [
        "4.Write a python script that takes input from the user and displays that input back in upper and lower cases."
      ]
    },
    {
      "cell_type": "code",
      "metadata": {
        "id": "oUXFd1baYjC0",
        "colab_type": "code",
        "colab": {
          "base_uri": "https://localhost:8080/",
          "height": 67
        },
        "outputId": "e8c57dbc-8ef9-44f8-ac67-cf540cb2d237"
      },
      "source": [
        "s=str(input(\"Enter the string\"))\n",
        "print(s.upper())\n",
        "print(s.lower())"
      ],
      "execution_count": null,
      "outputs": [
        {
          "output_type": "stream",
          "text": [
            "Enter the stringAkhila\n",
            "AKHILA\n",
            "akhila\n"
          ],
          "name": "stdout"
        }
      ]
    },
    {
      "cell_type": "markdown",
      "metadata": {
        "id": "y89bjk_4Yjtf",
        "colab_type": "text"
      },
      "source": [
        "5.Write a python program to remove a newline in python."
      ]
    },
    {
      "cell_type": "code",
      "metadata": {
        "id": "QFAgpUkIYukT",
        "colab_type": "code",
        "colab": {
          "base_uri": "https://localhost:8080/",
          "height": 50
        },
        "outputId": "651ee668-7c10-44ef-dac0-e6cb8b373bf4"
      },
      "source": [
        "str1 = 'Hello world'\n",
        "print(str1)\n",
        "print(str1.rstrip())"
      ],
      "execution_count": null,
      "outputs": [
        {
          "output_type": "stream",
          "text": [
            "Hello world\n",
            "Hello world\n"
          ],
          "name": "stdout"
        }
      ]
    },
    {
      "cell_type": "markdown",
      "metadata": {
        "id": "R3lEsmOzZ8cP",
        "colab_type": "text"
      },
      "source": [
        "6.Write a python program to count occurences of a substring in a string."
      ]
    },
    {
      "cell_type": "code",
      "metadata": {
        "id": "3FaNu-FuaVnk",
        "colab_type": "code",
        "colab": {
          "base_uri": "https://localhost:8080/",
          "height": 50
        },
        "outputId": "9790a277-0581-46e7-86b1-b1a16a9edcb1"
      },
      "source": [
        "string1 = \" we are are learning python\"\n",
        "sub=\" are\"\n",
        "print(string1)\n",
        "print(string1.count(\" are\"))"
      ],
      "execution_count": null,
      "outputs": [
        {
          "output_type": "stream",
          "text": [
            " we are are learning python\n",
            "2\n"
          ],
          "name": "stdout"
        }
      ]
    },
    {
      "cell_type": "markdown",
      "metadata": {
        "id": "5vgVZRXmbfbl",
        "colab_type": "text"
      },
      "source": [
        "7.Write a python program to convert a string in a list."
      ]
    },
    {
      "cell_type": "code",
      "metadata": {
        "id": "G98FZyrpb1Dd",
        "colab_type": "code",
        "colab": {
          "base_uri": "https://localhost:8080/",
          "height": 50
        },
        "outputId": "4051e2f3-a39a-4e75-e1a5-0b3bb60a973e"
      },
      "source": [
        "string1 = \" Gitam university is  located in banglore\"\n",
        "print(\"Actual string: \", string1)\n",
        "print(\" String converted to list : \",string1.split())"
      ],
      "execution_count": null,
      "outputs": [
        {
          "output_type": "stream",
          "text": [
            "Actual string:   Gitam university is  located in banglore\n",
            " String converted to list :  ['Gitam', 'university', 'is', 'located', 'in', 'banglore']\n"
          ],
          "name": "stdout"
        }
      ]
    },
    {
      "cell_type": "markdown",
      "metadata": {
        "id": "4ZA6qSAueMER",
        "colab_type": "text"
      },
      "source": [
        "8.Write a python program to perform deletion of a character."
      ]
    },
    {
      "cell_type": "code",
      "metadata": {
        "id": "bNVzqGJQeVjd",
        "colab_type": "code",
        "colab": {
          "base_uri": "https://localhost:8080/",
          "height": 34
        },
        "outputId": "7d54ddc7-4ca4-456f-bb93-00c1a5d4ad7c"
      },
      "source": [
        "s = 'Good morning'\n",
        "print(s.replace('g', ''))"
      ],
      "execution_count": null,
      "outputs": [
        {
          "output_type": "stream",
          "text": [
            "Good mornin\n"
          ],
          "name": "stdout"
        }
      ]
    },
    {
      "cell_type": "markdown",
      "metadata": {
        "id": "7dzU8D7BinVl",
        "colab_type": "text"
      },
      "source": [
        "9.Write a python program to print every character of a string entered by user in a new line using loop."
      ]
    },
    {
      "cell_type": "code",
      "metadata": {
        "id": "S0iOJZ_-jBSs",
        "colab_type": "code",
        "colab": {
          "base_uri": "https://localhost:8080/",
          "height": 151
        },
        "outputId": "20b11f11-4f36-42b1-a8fe-5f2a3cf0f9bd"
      },
      "source": [
        "s=str(input(\" Enter the string  \"))\n",
        "for i in s:\n",
        "  print(i)"
      ],
      "execution_count": null,
      "outputs": [
        {
          "output_type": "stream",
          "text": [
            " Enter the string  program\n",
            "p\n",
            "r\n",
            "o\n",
            "g\n",
            "r\n",
            "a\n",
            "m\n"
          ],
          "name": "stdout"
        }
      ]
    },
    {
      "cell_type": "markdown",
      "metadata": {
        "id": "tN3MN7LxjyrA",
        "colab_type": "text"
      },
      "source": [
        "10.Write a python program to find the length of the string \"refrigerator\" without using len function."
      ]
    },
    {
      "cell_type": "code",
      "metadata": {
        "id": "L7JUEMRlkBhQ",
        "colab_type": "code",
        "colab": {
          "base_uri": "https://localhost:8080/",
          "height": 34
        },
        "outputId": "2093b331-0597-4c4f-e545-692d390991af"
      },
      "source": [
        "a = \"refrigerator\"\n",
        "count = 0\n",
        "for i in a :\n",
        "  count = count+1\n",
        "print(count)"
      ],
      "execution_count": null,
      "outputs": [
        {
          "output_type": "stream",
          "text": [
            "12\n"
          ],
          "name": "stdout"
        }
      ]
    }
  ]
}