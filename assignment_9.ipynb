{
  "nbformat": 4,
  "nbformat_minor": 0,
  "metadata": {
    "colab": {
      "name": "assignment 9",
      "provenance": [],
      "include_colab_link": true
    },
    "kernelspec": {
      "name": "python3",
      "display_name": "Python 3"
    }
  },
  "cells": [
    {
      "cell_type": "markdown",
      "metadata": {
        "id": "view-in-github",
        "colab_type": "text"
      },
      "source": [
        "<a href=\"https://colab.research.google.com/github/mahidharreddy5021/assignment-01/blob/master/assignment_9.ipynb\" target=\"_parent\"><img src=\"https://colab.research.google.com/assets/colab-badge.svg\" alt=\"Open In Colab\"/></a>"
      ]
    },
    {
      "cell_type": "code",
      "metadata": {
        "id": "5sf3KNH1HKyT",
        "colab_type": "code",
        "colab": {}
      },
      "source": [
        ""
      ],
      "execution_count": null,
      "outputs": []
    },
    {
      "cell_type": "markdown",
      "metadata": {
        "id": "JDD6pxrMHMZY",
        "colab_type": "text"
      },
      "source": [
        "1.Python program to find the square root."
      ]
    },
    {
      "cell_type": "code",
      "metadata": {
        "id": "V3v4yMp6Hxji",
        "colab_type": "code",
        "colab": {
          "base_uri": "https://localhost:8080/",
          "height": 50
        },
        "outputId": "db0909fe-1edf-4554-d60c-a4e8bd98f2ed"
      },
      "source": [
        "num = int(input('Enter a number:'))\n",
        "num_sqrt = num ** 0.5\n",
        "print('The square root is ',(num , num_sqrt))"
      ],
      "execution_count": null,
      "outputs": [
        {
          "output_type": "stream",
          "text": [
            "Enter a number:16\n",
            "The square root is  (16, 4.0)\n"
          ],
          "name": "stdout"
        }
      ]
    },
    {
      "cell_type": "markdown",
      "metadata": {
        "id": "-16uWCw_J42e",
        "colab_type": "text"
      },
      "source": [
        "2.Python program to check if a number is positive ,negative or 0."
      ]
    },
    {
      "cell_type": "code",
      "metadata": {
        "id": "rPVRcmXZKv2E",
        "colab_type": "code",
        "colab": {
          "base_uri": "https://localhost:8080/",
          "height": 50
        },
        "outputId": "6b6971c5-3f6b-47f7-acf3-19c9bd31051a"
      },
      "source": [
        "n = int(input('Enter n  '))\n",
        "if n==0:\n",
        "  print('number is zero')\n",
        "else:\n",
        "  if n>0:\n",
        "    print('n is poitive')\n",
        "  else:\n",
        "    print('n is negative')"
      ],
      "execution_count": null,
      "outputs": [
        {
          "output_type": "stream",
          "text": [
            "Enter n  9\n",
            "n is poitive\n"
          ],
          "name": "stdout"
        }
      ]
    },
    {
      "cell_type": "markdown",
      "metadata": {
        "id": "Niv4PcUlOGeh",
        "colab_type": "text"
      },
      "source": [
        "3.Python program to check leap year."
      ]
    },
    {
      "cell_type": "code",
      "metadata": {
        "id": "Yyz_mhVDOQuK",
        "colab_type": "code",
        "colab": {
          "base_uri": "https://localhost:8080/",
          "height": 50
        },
        "outputId": "f33136e1-4010-4563-91bc-561d3e541315"
      },
      "source": [
        "year = int(input('Enter a year')) \n",
        "if (( year%400 == 0) or (( year%4 == 0) and ( year%100 !=  0))):\n",
        "  print(\" it is a leap year\")\n",
        "else:\n",
        "  print(\" it is not a leap year\", year)  "
      ],
      "execution_count": null,
      "outputs": [
        {
          "output_type": "stream",
          "text": [
            "Enter a year2016\n",
            " it is a leap year\n"
          ],
          "name": "stdout"
        }
      ]
    },
    {
      "cell_type": "markdown",
      "metadata": {
        "id": "w78mH1mDRhQ5",
        "colab_type": "text"
      },
      "source": [
        "4.Python program to print the Fibonacci sequence."
      ]
    },
    {
      "cell_type": "code",
      "metadata": {
        "id": "Wll6oQ2oRutl",
        "colab_type": "code",
        "colab": {
          "base_uri": "https://localhost:8080/",
          "height": 252
        },
        "outputId": "b0aebc13-6116-4084-ccd8-5e3e050b9373"
      },
      "source": [
        "nterms = int(input(\" Enter the terms\"))\n",
        "n1, n2 = 0, 1\n",
        "count = 0\n",
        "if nterms <= 0:\n",
        "  print(\" enter a positive integer\")\n",
        "elif nterms == 1:\n",
        "  print(\" Fibonacci sequence upto\", nterms,\" : \")\n",
        "  print(n1)\n",
        "else:\n",
        "  print(\" Fibonacci sequence:\")\n",
        "  while count < nterms:\n",
        "    print(n1)\n",
        "    nth = n1 + n2\n",
        "    n1 = n2\n",
        "    n2 = nth\n",
        "    count += 1"
      ],
      "execution_count": null,
      "outputs": [
        {
          "output_type": "stream",
          "text": [
            " Enter the terms12\n",
            " Fibonacci sequence:\n",
            "0\n",
            "1\n",
            "1\n",
            "2\n",
            "3\n",
            "5\n",
            "8\n",
            "13\n",
            "21\n",
            "34\n",
            "55\n",
            "89\n"
          ],
          "name": "stdout"
        }
      ]
    },
    {
      "cell_type": "code",
      "metadata": {
        "id": "HfAcxMafTwz5",
        "colab_type": "code",
        "colab": {}
      },
      "source": [
        ""
      ],
      "execution_count": null,
      "outputs": []
    },
    {
      "cell_type": "markdown",
      "metadata": {
        "id": "kbII8b85V4Ao",
        "colab_type": "text"
      },
      "source": [
        "5.Python program to check Armstrong Number."
      ]
    },
    {
      "cell_type": "code",
      "metadata": {
        "id": "2oPN8rNRWGVA",
        "colab_type": "code",
        "colab": {
          "base_uri": "https://localhost:8080/",
          "height": 50
        },
        "outputId": "41494e70-e67b-4b88-d511-2144a8409d5c"
      },
      "source": [
        "num = int(input(\" Enter a number:\"))\n",
        "sum = 0\n",
        "temp = num\n",
        "while temp > 0:\n",
        "  digit = temp % 10\n",
        "  sum += digit ** 3\n",
        "  temp //=  10\n",
        "if num == sum:\n",
        "  print(num,\" is an Armstrong number\")\n",
        "else:\n",
        "  print(num,\" is not an Armstrong number\")"
      ],
      "execution_count": null,
      "outputs": [
        {
          "output_type": "stream",
          "text": [
            " Enter a number:150\n",
            "150  is not an Armstrong number\n"
          ],
          "name": "stdout"
        }
      ]
    },
    {
      "cell_type": "markdown",
      "metadata": {
        "id": "uRU4zLPMYdrY",
        "colab_type": "text"
      },
      "source": [
        "6.Python program to find Armstrong Number in an interval."
      ]
    },
    {
      "cell_type": "code",
      "metadata": {
        "id": "EzW0X4VjfSws",
        "colab_type": "code",
        "colab": {
          "base_uri": "https://localhost:8080/",
          "height": 151
        },
        "outputId": "2405fc02-2df8-4a09-94aa-3f9e6f2b8d31"
      },
      "source": [
        "for num in range(50,2000):\n",
        "  sum = 0\n",
        "  temp = num\n",
        "  while temp > 0:\n",
        "      digit = temp %10\n",
        "      sum = sum+digit ** 3\n",
        "      temp//= 10\n",
        "      if sum== num:\n",
        "        print(num)"
      ],
      "execution_count": null,
      "outputs": [
        {
          "output_type": "stream",
          "text": [
            "64\n",
            "125\n",
            "153\n",
            "216\n",
            "370\n",
            "371\n",
            "407\n",
            "729\n"
          ],
          "name": "stdout"
        }
      ]
    },
    {
      "cell_type": "code",
      "metadata": {
        "id": "20wTwqRyXot6",
        "colab_type": "code",
        "colab": {}
      },
      "source": [
        ""
      ],
      "execution_count": null,
      "outputs": []
    }
  ]
}