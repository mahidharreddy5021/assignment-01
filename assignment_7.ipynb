{
  "nbformat": 4,
  "nbformat_minor": 0,
  "metadata": {
    "colab": {
      "name": "assignment 7",
      "provenance": [],
      "collapsed_sections": [],
      "include_colab_link": true
    },
    "kernelspec": {
      "name": "python3",
      "display_name": "Python 3"
    }
  },
  "cells": [
    {
      "cell_type": "markdown",
      "metadata": {
        "id": "view-in-github",
        "colab_type": "text"
      },
      "source": [
        "<a href=\"https://colab.research.google.com/github/mahidharreddy5021/assignment-01/blob/master/assignment_7.ipynb\" target=\"_parent\"><img src=\"https://colab.research.google.com/assets/colab-badge.svg\" alt=\"Open In Colab\"/></a>"
      ]
    },
    {
      "cell_type": "code",
      "metadata": {
        "id": "ayA12zFzTik8",
        "colab_type": "code",
        "colab": {}
      },
      "source": [
        "1.Take two inputs from user and check whether it is equal or not"
      ],
      "execution_count": null,
      "outputs": []
    },
    {
      "cell_type": "code",
      "metadata": {
        "id": "c4RtxadaTvkW",
        "colab_type": "code",
        "colab": {
          "base_uri": "https://localhost:8080/",
          "height": 69
        },
        "outputId": "a6ce5165-3102-4ad8-93b0-cb013cc560e0"
      },
      "source": [
        "x=int(input('Enter a first number ')) \n",
        "y=int(input('Enter a second number')) \n",
        "if x==y:\n",
        "   print('x and y are equal')\n",
        "else:\n",
        "   print('x and y are not equal')"
      ],
      "execution_count": null,
      "outputs": [
        {
          "output_type": "stream",
          "text": [
            "Enter a first number5\n",
            "Enter a second number9\n",
            "x and y are not equal\n"
          ],
          "name": "stdout"
        }
      ]
    },
    {
      "cell_type": "markdown",
      "metadata": {
        "id": "hCAmAroqWzqj",
        "colab_type": "text"
      },
      "source": [
        "2.Take three inputs from the user and check: all are equal, any of two are equal(use and or)"
      ]
    },
    {
      "cell_type": "code",
      "metadata": {
        "id": "3eFEQomEYKhr",
        "colab_type": "code",
        "colab": {
          "base_uri": "https://localhost:8080/",
          "height": 86
        },
        "outputId": "d792c097-6c28-427a-a682-a1c0457c9ea7"
      },
      "source": [
        "a=int(input('Enter a first number')) \n",
        "b=int(input('Enter a second number')) \n",
        "c=int(input('Enter a third number')) \n",
        "if a==b and b==c and c==a:\n",
        "   print('All are equal') \n",
        "else:\n",
        "   if a==b or b==c or c==a:\n",
        "      print('any of two are equal')"
      ],
      "execution_count": null,
      "outputs": [
        {
          "output_type": "stream",
          "text": [
            "Enter a first number3\n",
            "Enter a second number8\n",
            "Enter a third number3\n",
            "any of two are equal\n"
          ],
          "name": "stdout"
        }
      ]
    },
    {
      "cell_type": "markdown",
      "metadata": {
        "id": "M-_dB2qVdP3j",
        "colab_type": "text"
      },
      "source": [
        "3.Take two numbers and check whether the sum is greater than 5, less than 5 or equal to 5."
      ]
    },
    {
      "cell_type": "code",
      "metadata": {
        "id": "sqzpUvHGeCbm",
        "colab_type": "code",
        "colab": {
          "base_uri": "https://localhost:8080/",
          "height": 69
        },
        "outputId": "638d5874-96b3-4640-e7e8-b63730f84775"
      },
      "source": [
        "x=int(input('Enter a first value'))\n",
        "y=int(input('Enter a second value'))\n",
        "sum=x+y \n",
        "if sum>5:\n",
        "   print('sum is greater than 5')\n",
        "else:\n",
        "  if sum<5:\n",
        "     print('sum is less than 5')\n",
        "  else:\n",
        "    print('sum is equal to 5')"
      ],
      "execution_count": null,
      "outputs": [
        {
          "output_type": "stream",
          "text": [
            "Enter a first value7\n",
            "Enter a second value3\n",
            "sum is greater than 5\n"
          ],
          "name": "stdout"
        }
      ]
    },
    {
      "cell_type": "code",
      "metadata": {
        "id": "ZkDU57tgdmBw",
        "colab_type": "code",
        "colab": {}
      },
      "source": [
        "4.suppose passing marks of a subject is 35.Take a input\n",
        "marks from user and check whether it is greater than passing marks or not."
      ],
      "execution_count": null,
      "outputs": []
    },
    {
      "cell_type": "code",
      "metadata": {
        "id": "WzpEk6w6huM_",
        "colab_type": "code",
        "colab": {
          "base_uri": "https://localhost:8080/",
          "height": 71
        },
        "outputId": "7d1a3ffe-33ad-4688-c243-db7272786c92"
      },
      "source": [
        "pass marks=35\n",
        "marks=int(input('Enter a marks'))\n",
        "if marks>pass marks:\n",
        "   print('Marks is greater than the passing marks') \n",
        "else:\n",
        "  print('Marks is not greater than passing marks')"
      ],
      "execution_count": null,
      "outputs": [
        {
          "output_type": "stream",
          "text": [
            "Enter a marks80\n",
            "Marks is greater than the passing marks\n"
          ],
          "name": "stdout"
        }
      ]
    },
    {
      "cell_type": "markdown",
      "metadata": {
        "id": "l9vZqCsMjPdH",
        "colab_type": "text"
      },
      "source": [
        "5.write a python function to find the Max of three numbers."
      ]
    },
    {
      "cell_type": "code",
      "metadata": {
        "id": "HVXMYXowjbGD",
        "colab_type": "code",
        "colab": {
          "base_uri": "https://localhost:8080/",
          "height": 86
        },
        "outputId": "1226e16d-66cd-40a8-fcac-5d6065193073"
      },
      "source": [
        "a=int(input('Enter a first number')) \n",
        "b=int(input('Enter a second number')) \n",
        "c=int(input('Enter a third number'))\n",
        "if a>=b and a>=c:\n",
        "   print('a is largest number')\n",
        "elif b>=a and b>=c:\n",
        "   print('b is largest number')\n",
        "else:\n",
        "  print('c is largest number')"
      ],
      "execution_count": null,
      "outputs": [
        {
          "output_type": "stream",
          "text": [
            "Enter a first number9\n",
            "Enter a second number6\n",
            "Enter a third number4\n",
            "a is largest number\n"
          ],
          "name": "stdout"
        }
      ]
    }
  ]
}