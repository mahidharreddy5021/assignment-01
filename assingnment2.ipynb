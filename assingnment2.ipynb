{
  "nbformat": 4,
  "nbformat_minor": 0,
  "metadata": {
    "colab": {
      "name": "assingnment2.ipynb",
      "provenance": [],
      "collapsed_sections": [],
      "authorship_tag": "ABX9TyNXL84aBrjHEXdgW4xAyIK1",
      "include_colab_link": true
    },
    "kernelspec": {
      "name": "python3",
      "display_name": "Python 3"
    }
  },
  "cells": [
    {
      "cell_type": "markdown",
      "metadata": {
        "id": "view-in-github",
        "colab_type": "text"
      },
      "source": [
        "<a href=\"https://colab.research.google.com/github/mahidharreddy5021/assignment-01/blob/master/assingnment2.ipynb\" target=\"_parent\"><img src=\"https://colab.research.google.com/assets/colab-badge.svg\" alt=\"Open In Colab\"/></a>"
      ]
    },
    {
      "cell_type": "code",
      "metadata": {
        "id": "WEh7Fc71WqNf",
        "colab_type": "code",
        "colab": {}
      },
      "source": [
        ""
      ],
      "execution_count": null,
      "outputs": []
    },
    {
      "cell_type": "markdown",
      "metadata": {
        "id": "kPlrhVDyWvoP",
        "colab_type": "text"
      },
      "source": [
        "# what are the data types in python?\n",
        "the data types in python are\n",
        "1)int (integer data type\n",
        "2)float data type\n",
        "3)string data type\n",
        "4)complex data type\n",
        "5)boolean data type"
      ]
    },
    {
      "cell_type": "markdown",
      "metadata": {
        "id": "i4F_bfGqYJaE",
        "colab_type": "text"
      },
      "source": [
        ""
      ]
    },
    {
      "cell_type": "markdown",
      "metadata": {
        "id": "CK22iMZ4YPkd",
        "colab_type": "text"
      },
      "source": [
        "brefly explain the history of python? \n",
        "python is high level programing language.it was initially designed by guido van rossumin 1991,and developed by python software foundation.it was found for emphasis an code readiability.its syntax allows programers to express in fewer lines of code."
      ]
    },
    {
      "cell_type": "markdown",
      "metadata": {
        "id": "azH_phz6btxR",
        "colab_type": "text"
      },
      "source": [
        "3) explain the operators in python?\n",
        "ans) operators are in python aree :\n",
        "    airthmetic operators.\n",
        "    assignment operators.\n",
        "    comparision operator.\n",
        "    logical operators.\n",
        "    bitwise operator.\n",
        "    identity operator.\n",
        "    membership operators."
      ]
    },
    {
      "cell_type": "markdown",
      "metadata": {
        "id": "8ArJQLmmcWCM",
        "colab_type": "text"
      },
      "source": [
        "4) explain the features of python ?\n",
        "ans) python is a high level language.\n",
        "     python is an interpreted language.\n",
        "     python is cross platform language.\n",
        "     objected oriented lenguage\n",
        "     integrated language.\n",
        "     "
      ]
    },
    {
      "cell_type": "markdown",
      "metadata": {
        "id": "bAoVEXEKdIYq",
        "colab_type": "text"
      },
      "source": [
        "5) justify why python is interactive interpreted language?\n",
        "ans) python is called interpreted language,because it goes through an interpreted,which turns code you write into the language  understood by your computers procesor .we can run the code without compiling which is not present in c language."
      ]
    }
  ]
}