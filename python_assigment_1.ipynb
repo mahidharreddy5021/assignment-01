{
  "nbformat": 4,
  "nbformat_minor": 0,
  "metadata": {
    "colab": {
      "name": "python assigment 1.ipynb",
      "provenance": [],
      "authorship_tag": "ABX9TyNgaxAjmovD8Co8M8NnhkC8",
      "include_colab_link": true
    },
    "kernelspec": {
      "name": "python3",
      "display_name": "Python 3"
    }
  },
  "cells": [
    {
      "cell_type": "markdown",
      "metadata": {
        "id": "view-in-github",
        "colab_type": "text"
      },
      "source": [
        "<a href=\"https://colab.research.google.com/github/mahidharreddy5021/assignment-01/blob/master/python_assigment_1.ipynb\" target=\"_parent\"><img src=\"https://colab.research.google.com/assets/colab-badge.svg\" alt=\"Open In Colab\"/></a>"
      ]
    },
    {
      "cell_type": "code",
      "metadata": {
        "id": "ZAfSMo-4KaVd",
        "colab_type": "code",
        "colab": {
          "base_uri": "https://localhost:8080/",
          "height": 67
        },
        "outputId": "d0b4e2e2-f593-44ea-bf13-c905550e74d7"
      },
      "source": [
        "a=int(input())\n",
        "b=int(input())\n",
        "c=(a+b,a-b,a/b,a*b,a//b,a**b)\n",
        "print(c)"
      ],
      "execution_count": null,
      "outputs": [
        {
          "output_type": "stream",
          "text": [
            "3\n",
            "7\n",
            "(10, -4, 0.42857142857142855, 21, 0, 2187)\n"
          ],
          "name": "stdout"
        }
      ]
    },
    {
      "cell_type": "markdown",
      "metadata": {
        "id": "7GbForSILIEa",
        "colab_type": "text"
      },
      "source": [
        "program to calculate simple interest"
      ]
    },
    {
      "cell_type": "code",
      "metadata": {
        "id": "MN-Wohu4LdOu",
        "colab_type": "code",
        "colab": {
          "base_uri": "https://localhost:8080/",
          "height": 84
        },
        "outputId": "6ba7a183-e7ac-4e11-8249-150900df4604"
      },
      "source": [
        "p=int(input())\n",
        "t=int(input())\n",
        "r=int(input())\n",
        "print((p*t*r)/100)"
      ],
      "execution_count": null,
      "outputs": [
        {
          "output_type": "stream",
          "text": [
            "5\n",
            "6\n",
            "10\n",
            "3.0\n"
          ],
          "name": "stdout"
        }
      ]
    },
    {
      "cell_type": "code",
      "metadata": {
        "id": "wDCLheseLjrw",
        "colab_type": "code",
        "colab": {}
      },
      "source": [
        ""
      ],
      "execution_count": null,
      "outputs": []
    },
    {
      "cell_type": "markdown",
      "metadata": {
        "id": "dkW7mVz2MtVh",
        "colab_type": "text"
      },
      "source": [
        "program to calculate the area of a circle\n"
      ]
    },
    {
      "cell_type": "code",
      "metadata": {
        "id": "HvA5PAFZM3VN",
        "colab_type": "code",
        "colab": {
          "base_uri": "https://localhost:8080/",
          "height": 50
        },
        "outputId": "9a0ade8f-6e80-41d7-d471-cb3f9af50aa9"
      },
      "source": [
        "radius=float(input())\n",
        "print(3.14*radius**2)"
      ],
      "execution_count": null,
      "outputs": [
        {
          "output_type": "stream",
          "text": [
            "5\n",
            "78.5\n"
          ],
          "name": "stdout"
        }
      ]
    },
    {
      "cell_type": "markdown",
      "metadata": {
        "id": "85AuP0u9N1-x",
        "colab_type": "text"
      },
      "source": [
        "program to calculate area of triangle"
      ]
    },
    {
      "cell_type": "code",
      "metadata": {
        "id": "v7zIZnrxOEv2",
        "colab_type": "code",
        "colab": {
          "base_uri": "https://localhost:8080/",
          "height": 67
        },
        "outputId": "5df98514-028b-4866-aa56-f24847700a48"
      },
      "source": [
        "length=int(input())\n",
        "breadth=int(input())\n",
        "print(0.5*length*breadth)"
      ],
      "execution_count": null,
      "outputs": [
        {
          "output_type": "stream",
          "text": [
            "7\n",
            "8\n",
            "28.0\n"
          ],
          "name": "stdout"
        }
      ]
    },
    {
      "cell_type": "markdown",
      "metadata": {
        "id": "37q-2-OJO2RL",
        "colab_type": "text"
      },
      "source": [
        "program to temperature in celsius to fahrenheit"
      ]
    },
    {
      "cell_type": "code",
      "metadata": {
        "id": "t1DxLFuJPMh5",
        "colab_type": "code",
        "colab": {
          "base_uri": "https://localhost:8080/",
          "height": 50
        },
        "outputId": "3d825e22-2afc-4a83-bd3e-5cabfd5d3a48"
      },
      "source": [
        "celsius=float(input())\n",
        "print(celsius*1.8+32)"
      ],
      "execution_count": null,
      "outputs": [
        {
          "output_type": "stream",
          "text": [
            "8\n",
            "46.4\n"
          ],
          "name": "stdout"
        }
      ]
    },
    {
      "cell_type": "markdown",
      "metadata": {
        "id": "HHLeR_UIQF3-",
        "colab_type": "text"
      },
      "source": [
        "program to calculate area of rectangle"
      ]
    },
    {
      "cell_type": "code",
      "metadata": {
        "id": "XfyVcF1LQVEe",
        "colab_type": "code",
        "colab": {
          "base_uri": "https://localhost:8080/",
          "height": 67
        },
        "outputId": "7c6c2cb9-374b-475d-d64a-ad917646325e"
      },
      "source": [
        "\n",
        "length=int(input())\n",
        "breadth=int(input())\n",
        "print(length*breadth)"
      ],
      "execution_count": null,
      "outputs": [
        {
          "output_type": "stream",
          "text": [
            "2\n",
            "3\n",
            "6\n"
          ],
          "name": "stdout"
        }
      ]
    },
    {
      "cell_type": "markdown",
      "metadata": {
        "id": "_-jMpXyLR4yo",
        "colab_type": "text"
      },
      "source": [
        "program to calculate perimeter of square"
      ]
    },
    {
      "cell_type": "code",
      "metadata": {
        "id": "9ZBt0PdpSVsX",
        "colab_type": "code",
        "colab": {
          "base_uri": "https://localhost:8080/",
          "height": 50
        },
        "outputId": "ef959669-11af-4638-9a61-ff49df10c72e"
      },
      "source": [
        "a=int(input())\n",
        "print(4*a)"
      ],
      "execution_count": null,
      "outputs": [
        {
          "output_type": "stream",
          "text": [
            "2\n",
            "8\n"
          ],
          "name": "stdout"
        }
      ]
    },
    {
      "cell_type": "markdown",
      "metadata": {
        "id": "tN2FX1SgTALN",
        "colab_type": "text"
      },
      "source": [
        "program to calculate circumference of a circle"
      ]
    },
    {
      "cell_type": "code",
      "metadata": {
        "id": "6JK1CkEdTJD2",
        "colab_type": "code",
        "colab": {
          "base_uri": "https://localhost:8080/",
          "height": 50
        },
        "outputId": "db4eeb7e-4b56-498e-e391-3f4ffbb02b4d"
      },
      "source": [
        "\n",
        "radius=int(input())\n",
        "print(2*3.14*radius)"
      ],
      "execution_count": null,
      "outputs": [
        {
          "output_type": "stream",
          "text": [
            "2\n",
            "12.56\n"
          ],
          "name": "stdout"
        }
      ]
    },
    {
      "cell_type": "markdown",
      "metadata": {
        "id": "T43iPMTYTeMv",
        "colab_type": "text"
      },
      "source": [
        "program to swap two numbers"
      ]
    },
    {
      "cell_type": "code",
      "metadata": {
        "id": "dyHBke_zTk3D",
        "colab_type": "code",
        "colab": {
          "base_uri": "https://localhost:8080/",
          "height": 67
        },
        "outputId": "7c462595-7fdc-4bfb-8b25-e25a36d7c15f"
      },
      "source": [
        "a=(input())\n",
        "b=int(input())\n",
        "temp=a\n",
        "a=b\n",
        "b=temp\n",
        "print(a,b)"
      ],
      "execution_count": null,
      "outputs": [
        {
          "output_type": "stream",
          "text": [
            "2\n",
            "3\n",
            "3 2\n"
          ],
          "name": "stdout"
        }
      ]
    },
    {
      "cell_type": "code",
      "metadata": {
        "id": "krR7IFkLSF4P",
        "colab_type": "code",
        "colab": {}
      },
      "source": [
        ""
      ],
      "execution_count": null,
      "outputs": []
    }
  ]
}