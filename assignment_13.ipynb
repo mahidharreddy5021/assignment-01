{
  "nbformat": 4,
  "nbformat_minor": 0,
  "metadata": {
    "colab": {
      "name": " assignment 13",
      "provenance": [],
      "include_colab_link": true
    },
    "kernelspec": {
      "name": "python3",
      "display_name": "Python 3"
    }
  },
  "cells": [
    {
      "cell_type": "markdown",
      "metadata": {
        "id": "view-in-github",
        "colab_type": "text"
      },
      "source": [
        "<a href=\"https://colab.research.google.com/github/mahidharreddy5021/assignment-01/blob/master/assignment_13.ipynb\" target=\"_parent\"><img src=\"https://colab.research.google.com/assets/colab-badge.svg\" alt=\"Open In Colab\"/></a>"
      ]
    },
    {
      "cell_type": "markdown",
      "metadata": {
        "id": "LO749vEZ1S0Z",
        "colab_type": "text"
      },
      "source": [
        "1.Write a python program to read an entire text file."
      ]
    },
    {
      "cell_type": "code",
      "metadata": {
        "id": "EcBSQdiK8HGK",
        "colab_type": "code",
        "colab": {
          "base_uri": "https://localhost:8080/",
          "height": 84
        },
        "outputId": "8ddcf036-7c89-4d9c-8d64-2f8f85b8f65e"
      },
      "source": [
        "f1=open(\"assignment.txt\",\"w\")\n",
        "f1.write(\"\"\"Hello\n",
        "Good Morning\n",
        "How are you?\n",
        "Have a nice day\"\"\")\n",
        "f1.close()\n",
        "f1=open(\"assignment.txt\",\"r\")\n",
        "lines=f1.read()\n",
        "print(lines)"
      ],
      "execution_count": null,
      "outputs": [
        {
          "output_type": "stream",
          "text": [
            "Hello\n",
            "Good Morning\n",
            "How are you?\n",
            "Have a nice day\n"
          ],
          "name": "stdout"
        }
      ]
    },
    {
      "cell_type": "markdown",
      "metadata": {
        "id": "RkBk7YkkmKMS",
        "colab_type": "text"
      },
      "source": [
        "2.Write a python program to read first n lines of a file."
      ]
    },
    {
      "cell_type": "code",
      "metadata": {
        "id": "OYimshIzma_x",
        "colab_type": "code",
        "colab": {
          "base_uri": "https://localhost:8080/",
          "height": 134
        },
        "outputId": "e5235542-1811-4193-ba69-0c42024ed246"
      },
      "source": [
        "f=open(\"assignment.txt\",\"r\")\n",
        "n=int(input(\"Enter the number of lines you want to read:\"))\n",
        "print(\"The content present in the first\",n,\"lines present in the file is\\n:\")\n",
        "for i in range(n):\n",
        "  line=f.readline()\n",
        "  print(line)"
      ],
      "execution_count": null,
      "outputs": [
        {
          "output_type": "stream",
          "text": [
            "Enter the number of lines you want to read:2\n",
            "The content present in the first 2 lines present in the file is\n",
            ":\n",
            "Hello\n",
            "\n",
            "Good Morning\n",
            "\n"
          ],
          "name": "stdout"
        }
      ]
    },
    {
      "cell_type": "markdown",
      "metadata": {
        "id": "N5kwzrBWog2I",
        "colab_type": "text"
      },
      "source": [
        "3.Write a python program to append text to a file and display the text.\n"
      ]
    },
    {
      "cell_type": "code",
      "metadata": {
        "id": "IJFon1Wrow4Q",
        "colab_type": "code",
        "colab": {
          "base_uri": "https://localhost:8080/",
          "height": 50
        },
        "outputId": "0bf56f75-0bf4-4c7a-d08a-bde25ebd4143"
      },
      "source": [
        "def file_read(fname):\n",
        "        from itertools import islice\n",
        "        with open(fname, \"w\") as myfile:\n",
        "                  myfile.write(\"Akhila\\n\")\n",
        "                  myfile.write(\"D/O Mohan\")\n",
        "        txt = open(fname)\n",
        "        print(txt.read())\n",
        "file_read('abc.txt')                "
      ],
      "execution_count": null,
      "outputs": [
        {
          "output_type": "stream",
          "text": [
            "Akhila\n",
            "D/O Mohan\n"
          ],
          "name": "stdout"
        }
      ]
    },
    {
      "cell_type": "markdown",
      "metadata": {
        "id": "PRWi1YhhqM_L",
        "colab_type": "text"
      },
      "source": [
        "4.Write a python program to read last n file."
      ]
    },
    {
      "cell_type": "code",
      "metadata": {
        "id": "ufa467EZqYUO",
        "colab_type": "code",
        "colab": {
          "base_uri": "https://localhost:8080/",
          "height": 84
        },
        "outputId": "25f9a5aa-2aaf-4846-fc05-c14f2ecc9836"
      },
      "source": [
        "f=open(\"assignment.txt\",\"r\")\n",
        "n=int(input(\"Enter the value of n to print the last lines:\"))\n",
        "last=f.readlines()  [-n: ]\n",
        "for line in last:\n",
        "  print(line,end ='')"
      ],
      "execution_count": null,
      "outputs": [
        {
          "output_type": "stream",
          "text": [
            "Enter the value of n to print the last lines:3\n",
            "Good Morning\n",
            "How are you?\n",
            "Have a nice day"
          ],
          "name": "stdout"
        }
      ]
    },
    {
      "cell_type": "markdown",
      "metadata": {
        "id": "FJTurIkpsDyY",
        "colab_type": "text"
      },
      "source": [
        "5.Write a python program to read a file line by line store it into a variable."
      ]
    },
    {
      "cell_type": "code",
      "metadata": {
        "id": "8uys2A3vsPPH",
        "colab_type": "code",
        "colab": {
          "base_uri": "https://localhost:8080/",
          "height": 34
        },
        "outputId": "f682ce35-78a6-4088-8032-d9e7a11e6265"
      },
      "source": [
        "def file_read(fname):\n",
        "  with open (fname, \"r\") as myfile:\n",
        "    content=myfile.readlines()\n",
        "    print(content)\n",
        "file_read('assignment.txt')"
      ],
      "execution_count": null,
      "outputs": [
        {
          "output_type": "stream",
          "text": [
            "['Hello\\n', 'Good Morning\\n', 'How are you?\\n', 'Have a nice day']\n"
          ],
          "name": "stdout"
        }
      ]
    },
    {
      "cell_type": "markdown",
      "metadata": {
        "id": "_roU9smstVs2",
        "colab_type": "text"
      },
      "source": [
        "6.Write a python program to read a file line by line and store it into a list."
      ]
    },
    {
      "cell_type": "code",
      "metadata": {
        "id": "4MQY9GbrtjGl",
        "colab_type": "code",
        "colab": {
          "base_uri": "https://localhost:8080/",
          "height": 34
        },
        "outputId": "966f0c46-01a2-4b37-d202-9f78d9dd346f"
      },
      "source": [
        "def file_read(fname):\n",
        "  with open(fname) as f:content_list=f.readlines()\n",
        "  print(content_list)\n",
        "file_read('assignment.txt')"
      ],
      "execution_count": null,
      "outputs": [
        {
          "output_type": "stream",
          "text": [
            "['Hello\\n', 'Good Morning\\n', 'How are you?\\n', 'Have a nice day']\n"
          ],
          "name": "stdout"
        }
      ]
    },
    {
      "cell_type": "markdown",
      "metadata": {
        "id": "mHkrwKcbwpTL",
        "colab_type": "text"
      },
      "source": [
        "7.Write a python program to read a file line by line and store it in an array."
      ]
    },
    {
      "cell_type": "code",
      "metadata": {
        "id": "dRWtf5iyw8kk",
        "colab_type": "code",
        "colab": {
          "base_uri": "https://localhost:8080/",
          "height": 34
        },
        "outputId": "25f62b29-13b0-4f74-8bd6-614c61fa0e1f"
      },
      "source": [
        "def read(name):\n",
        "  content = []\n",
        "  with open(name) as f:\n",
        "    for ine in f:content.append(line)\n",
        "    print(content)\n",
        "read('assignment.txt')"
      ],
      "execution_count": null,
      "outputs": [
        {
          "output_type": "stream",
          "text": [
            "['Have a nice day', 'Have a nice day', 'Have a nice day', 'Have a nice day']\n"
          ],
          "name": "stdout"
        }
      ]
    },
    {
      "cell_type": "markdown",
      "metadata": {
        "id": "ckeCXJePxgbA",
        "colab_type": "text"
      },
      "source": [
        "8.Write a python program to count the number of lines in a text file."
      ]
    },
    {
      "cell_type": "code",
      "metadata": {
        "id": "9xEvjxTmyJM6",
        "colab_type": "code",
        "colab": {
          "base_uri": "https://localhost:8080/",
          "height": 34
        },
        "outputId": "c3c1e693-eb5c-4098-aaa7-47d126726391"
      },
      "source": [
        "f=open(\"assignment.txt\",\"r\")\n",
        "count=0\n",
        "content=f.read()\n",
        "file_list=content.split(\"\\n\")\n",
        "\n",
        "for line in file_list:\n",
        "  if i:\n",
        "    count+=1\n",
        "print(\"Number of lines in the given list:\",count)"
      ],
      "execution_count": null,
      "outputs": [
        {
          "output_type": "stream",
          "text": [
            "Number of lines in the given list: 4\n"
          ],
          "name": "stdout"
        }
      ]
    },
    {
      "cell_type": "markdown",
      "metadata": {
        "id": "Vt6NzMNZy-x7",
        "colab_type": "text"
      },
      "source": [
        "9.Write a python to get the full size of a plain file."
      ]
    },
    {
      "cell_type": "code",
      "metadata": {
        "id": "bkXvTyrOzLjT",
        "colab_type": "code",
        "colab": {
          "base_uri": "https://localhost:8080/",
          "height": 34
        },
        "outputId": "2ba56a94-5105-47bf-883e-9f886c2253c8"
      },
      "source": [
        "def size(fname):\n",
        "  import os\n",
        "  statinfo = os.stat(fname)\n",
        "  return statinfo.st_size\n",
        "size_file=size(\"assignment.txt\")\n",
        "print(\"File size in bytes of a plain file:\",size_file)"
      ],
      "execution_count": null,
      "outputs": [
        {
          "output_type": "stream",
          "text": [
            "File size in bytes of a plain file: 47\n"
          ],
          "name": "stdout"
        }
      ]
    },
    {
      "cell_type": "markdown",
      "metadata": {
        "id": "KGGetVPi0RzM",
        "colab_type": "text"
      },
      "source": [
        "10.Write a python program to copy the content of one file to another."
      ]
    },
    {
      "cell_type": "code",
      "metadata": {
        "id": "VY-Q3sC00d2L",
        "colab_type": "code",
        "colab": {}
      },
      "source": [
        "with open(\"assignment.txt\") as f:\n",
        "  with open(\"out.txt\", \"w\") as f1:\n",
        "    for line in f:\n",
        "      f1.write(line)"
      ],
      "execution_count": null,
      "outputs": []
    }
  ]
}